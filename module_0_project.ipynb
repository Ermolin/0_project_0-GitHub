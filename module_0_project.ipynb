{
 "cells": [
  {
   "cell_type": "code",
   "execution_count": 1,
   "metadata": {},
   "outputs": [
    {
     "name": "stdout",
     "output_type": "stream",
     "text": [
      "Ваш алгоритм угадывает число в среднем за 5 попыток\n"
     ]
    },
    {
     "data": {
      "text/plain": [
       "5"
      ]
     },
     "execution_count": 1,
     "metadata": {},
     "output_type": "execute_result"
    }
   ],
   "source": [
    "import numpy as np\n",
    "count = 0\n",
    "number = np.random.randint(1,101)\n",
    "\n",
    "def game_less_more(number):\n",
    "    # будем узнавать больше или меньше наше число загаданного\n",
    "    count = 0\n",
    "    minimum = 1\n",
    "    maximum = 100\n",
    "    \n",
    "    while True:\n",
    "        count += 1\n",
    "        predict = (maximum + minimum) // 2 #будем каждый цикл отрезать половину списка\n",
    "        \n",
    "        if predict > number : \n",
    "            maximum = predict #убираем все, что точно меньше загаданного числа\n",
    "        \n",
    "        elif predict < number :\n",
    "            minimum = predict #убираем все, что точно больше загаданного числа\n",
    "        \n",
    "        elif predict == number :\n",
    "            return (count)\n",
    "        predict = (maximum + minimum) // 2 # делаем новое предсказание, снова посередине\n",
    "        \n",
    "        if minimum == 99 :\n",
    "            minimum +=1 # при целочисленном деление есть одно иключение - загаданное число 100, для него нужно отделльное услови\n",
    "\n",
    "\n",
    "\n",
    "\n",
    "\n",
    "\n",
    "# стандартная часть из условий. используем для проверки\n",
    "def score_game(game_core):\n",
    "    '''Запускаем игру 1000 раз, чтобы узнать, как быстро игра угадывает число'''\n",
    "    \n",
    "    count_ls = []\n",
    "    \n",
    "    np.random.seed(1)  # фиксируем RANDOM SEED, чтобы ваш эксперимент был воспроизводим!\n",
    "    random_array = np.random.randint(1,101, size=(1000))\n",
    "    \n",
    "    for number in random_array:\n",
    "        count_ls.append(game_core(number))\n",
    "    \n",
    "    score = int(np.mean(count_ls))\n",
    "    \n",
    "    print(f\"Ваш алгоритм угадывает число в среднем за {score} попыток\")\n",
    "    return(score)\n",
    "\n",
    "# запускаем\n",
    "score_game(game_less_more)"
   ]
  },
  {
   "cell_type": "code",
   "execution_count": null,
   "metadata": {},
   "outputs": [],
   "source": []
  }
 ],
 "metadata": {
  "kernelspec": {
   "display_name": "Python 3",
   "language": "python",
   "name": "python3"
  },
  "language_info": {
   "codemirror_mode": {
    "name": "ipython",
    "version": 3
   },
   "file_extension": ".py",
   "mimetype": "text/x-python",
   "name": "python",
   "nbconvert_exporter": "python",
   "pygments_lexer": "ipython3",
   "version": "3.8.3"
  }
 },
 "nbformat": 4,
 "nbformat_minor": 4
}
